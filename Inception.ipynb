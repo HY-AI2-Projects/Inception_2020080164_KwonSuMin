{
 "cells": [
  {
   "cell_type": "code",
   "execution_count": 10,
   "id": "7d5a7367",
   "metadata": {},
   "outputs": [],
   "source": [
    "#모듈Import \n",
    "import torch\n",
    "import torch.nn as nn\n",
    "import torch.nn.functional as F"
   ]
  },
  {
   "cell_type": "code",
   "execution_count": 11,
   "id": "8c5fde8f",
   "metadata": {},
   "outputs": [],
   "source": [
    "#Module class 정의\n",
    "class InceptionModule(nn.Module):\n",
    "    def __init__(self, in_channels):\n",
    "        super(InceptionModule, self).__init__()\n",
    "        \n",
    "        # 1x1 Convolution\n",
    "        self.conv1 = nn.Conv2d(in_channels, 64, kernel_size=1)\n",
    "        \n",
    "        # 1x1 Conv followed by 3x3 Conv\n",
    "        self.conv3 = nn.Sequential(\n",
    "            nn.Conv2d(in_channels, 64, kernel_size=1),\n",
    "            nn.Conv2d(64, 128, kernel_size=3, padding=1)\n",
    "        )\n",
    "        \n",
    "        # 1x1 Conv followed by 5x5 Conv\n",
    "        self.conv5 = nn.Sequential(\n",
    "            nn.Conv2d(in_channels, 64, kernel_size=1),\n",
    "            nn.Conv2d(64, 128, kernel_size=5, padding=2)\n",
    "        )\n",
    "        \n",
    "        # 3x3 MaxPooling followed by 1x1 Conv\n",
    "        self.pool = nn.Sequential(\n",
    "            nn.MaxPool2d(3, stride=1, padding=1),\n",
    "            nn.Conv2d(in_channels, 32, kernel_size=1)\n",
    "        )\n",
    "        \n",
    "    def forward(self, x):\n",
    "        conv1_out = self.conv1(x)\n",
    "        conv3_out = self.conv3(x)\n",
    "        conv5_out = self.conv5(x)\n",
    "        pool_out = self.pool(x)\n",
    "        \n",
    "        # Concatenate along channel dimension\n",
    "        output = torch.cat([conv1_out, conv3_out, conv5_out, pool_out], dim=1)\n",
    "        \n",
    "        return output"
   ]
  },
  {
   "cell_type": "code",
   "execution_count": 12,
   "id": "ce21e681",
   "metadata": {},
   "outputs": [],
   "source": [
    "# Create a simple model using the Inception module\n",
    "class SimpleInception(nn.Module):\n",
    "    def __init__(self):\n",
    "        super(SimpleInception, self).__init__()\n",
    "        self.conv1 = nn.Conv2d(3, 64, kernel_size=3, padding=1)\n",
    "        self.inception1 = InceptionModule(64)\n",
    "        self.fc = nn.Linear(64*4*32*32, 10)  # Assuming input size is [32, 32, 3]\n",
    "        \n",
    "    def forward(self, x):\n",
    "        x = self.conv1(x)\n",
    "        x = self.inception1(x)\n",
    "        x = x.view(x.size(0), -1)\n",
    "        x = self.fc(x)\n",
    "        return x"
   ]
  },
  {
   "cell_type": "code",
   "execution_count": 13,
   "id": "4437a977",
   "metadata": {},
   "outputs": [],
   "source": [
    "# Create the model\n",
    "model = SimpleInception()"
   ]
  },
  {
   "cell_type": "code",
   "execution_count": null,
   "id": "d64ea5a0",
   "metadata": {},
   "outputs": [],
   "source": []
  },
  {
   "cell_type": "code",
   "execution_count": null,
   "id": "4ad88548",
   "metadata": {},
   "outputs": [],
   "source": []
  },
  {
   "cell_type": "code",
   "execution_count": null,
   "id": "2d5708d8",
   "metadata": {},
   "outputs": [],
   "source": []
  }
 ],
 "metadata": {
  "kernelspec": {
   "display_name": "Python 3 (ipykernel)",
   "language": "python",
   "name": "python3"
  },
  "language_info": {
   "codemirror_mode": {
    "name": "ipython",
    "version": 3
   },
   "file_extension": ".py",
   "mimetype": "text/x-python",
   "name": "python",
   "nbconvert_exporter": "python",
   "pygments_lexer": "ipython3",
   "version": "3.9.12"
  }
 },
 "nbformat": 4,
 "nbformat_minor": 5
}
